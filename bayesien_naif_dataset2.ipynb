{
 "cells": [
  {
   "cell_type": "code",
   "execution_count": 7,
   "metadata": {},
   "outputs": [],
   "source": [
    "import os\n",
    "\n",
    "import pandas as pd\n",
    "import s3fs\n",
    "import zipfile\n",
    "from datasets import Dataset, DatasetDict"
   ]
  },
  {
   "cell_type": "code",
   "execution_count": 8,
   "metadata": {},
   "outputs": [],
   "source": [
    "# Create filesystem object\n",
    "S3_ENDPOINT_URL = \"https://\" + os.environ[\"AWS_S3_ENDPOINT\"]\n",
    "fs = s3fs.S3FileSystem(client_kwargs={'endpoint_url': S3_ENDPOINT_URL})"
   ]
  },
  {
   "cell_type": "code",
   "execution_count": 9,
   "metadata": {},
   "outputs": [
    {
     "data": {
      "text/plain": [
       "['civel/diffusion/hackathon-minarm-2024/AIVSAI/hack_train.csv']"
      ]
     },
     "execution_count": 9,
     "metadata": {},
     "output_type": "execute_result"
    }
   ],
   "source": [
    "# Lister les fichiers d'un challenge\n",
    "fs.ls(\"civel/diffusion/hackathon-minarm-2024/AIVSAI/hack_train.csv\")"
   ]
  },
  {
   "cell_type": "code",
   "execution_count": 10,
   "metadata": {},
   "outputs": [
    {
     "data": {
      "text/plain": [
       "[None]"
      ]
     },
     "execution_count": 10,
     "metadata": {},
     "output_type": "execute_result"
    }
   ],
   "source": [
    "# Télécharger les données dans le service\n",
    "PATH_IN = 'civel/diffusion/hackathon-minarm-2024/AIVSAI/hack_train.csv'\n",
    "fs.download(PATH_IN, 'data/hack_train.csv')"
   ]
  },
  {
   "cell_type": "code",
   "execution_count": 11,
   "metadata": {},
   "outputs": [
    {
     "data": {
      "text/html": [
       "<div>\n",
       "<style scoped>\n",
       "    .dataframe tbody tr th:only-of-type {\n",
       "        vertical-align: middle;\n",
       "    }\n",
       "\n",
       "    .dataframe tbody tr th {\n",
       "        vertical-align: top;\n",
       "    }\n",
       "\n",
       "    .dataframe thead th {\n",
       "        text-align: right;\n",
       "    }\n",
       "</style>\n",
       "<table border=\"1\" class=\"dataframe\">\n",
       "  <thead>\n",
       "    <tr style=\"text-align: right;\">\n",
       "      <th></th>\n",
       "      <th>text</th>\n",
       "      <th>label</th>\n",
       "      <th>src</th>\n",
       "    </tr>\n",
       "  </thead>\n",
       "  <tbody>\n",
       "    <tr>\n",
       "      <th>0</th>\n",
       "      <td>Little disclaimer: this deals with US laws and...</td>\n",
       "      <td>1</td>\n",
       "      <td>cmv_human</td>\n",
       "    </tr>\n",
       "    <tr>\n",
       "      <th>1</th>\n",
       "      <td>Read: Mentally Retarded Downs. See, we've got ...</td>\n",
       "      <td>1</td>\n",
       "      <td>cmv_human</td>\n",
       "    </tr>\n",
       "    <tr>\n",
       "      <th>2</th>\n",
       "      <td>If any of you frequent rbadhistory, there is a...</td>\n",
       "      <td>1</td>\n",
       "      <td>cmv_human</td>\n",
       "    </tr>\n",
       "    <tr>\n",
       "      <th>3</th>\n",
       "      <td>I believe in a flat tax system, where everyone...</td>\n",
       "      <td>1</td>\n",
       "      <td>cmv_human</td>\n",
       "    </tr>\n",
       "    <tr>\n",
       "      <th>4</th>\n",
       "      <td>Edit: Ok guy's, my views have been changed on ...</td>\n",
       "      <td>1</td>\n",
       "      <td>cmv_human</td>\n",
       "    </tr>\n",
       "    <tr>\n",
       "      <th>...</th>\n",
       "      <td>...</td>\n",
       "      <td>...</td>\n",
       "      <td>...</td>\n",
       "    </tr>\n",
       "    <tr>\n",
       "      <th>56814</th>\n",
       "      <td>We consider the recovery of a source term f (x...</td>\n",
       "      <td>1</td>\n",
       "      <td>sci_gen_human</td>\n",
       "    </tr>\n",
       "    <tr>\n",
       "      <th>56815</th>\n",
       "      <td>Self-supervised learning (SlfSL), aiming at le...</td>\n",
       "      <td>1</td>\n",
       "      <td>sci_gen_human</td>\n",
       "    </tr>\n",
       "    <tr>\n",
       "      <th>56816</th>\n",
       "      <td>Recurrent neural networks (RNNs) have achieved...</td>\n",
       "      <td>1</td>\n",
       "      <td>sci_gen_human</td>\n",
       "    </tr>\n",
       "    <tr>\n",
       "      <th>56817</th>\n",
       "      <td>Deep reinforcement learning (DRL) is a booming...</td>\n",
       "      <td>1</td>\n",
       "      <td>sci_gen_human</td>\n",
       "    </tr>\n",
       "    <tr>\n",
       "      <th>56818</th>\n",
       "      <td>As part of Smart Cities initiatives, national,...</td>\n",
       "      <td>1</td>\n",
       "      <td>sci_gen_human</td>\n",
       "    </tr>\n",
       "  </tbody>\n",
       "</table>\n",
       "<p>56819 rows × 3 columns</p>\n",
       "</div>"
      ],
      "text/plain": [
       "                                                    text  label            src\n",
       "0      Little disclaimer: this deals with US laws and...      1      cmv_human\n",
       "1      Read: Mentally Retarded Downs. See, we've got ...      1      cmv_human\n",
       "2      If any of you frequent rbadhistory, there is a...      1      cmv_human\n",
       "3      I believe in a flat tax system, where everyone...      1      cmv_human\n",
       "4      Edit: Ok guy's, my views have been changed on ...      1      cmv_human\n",
       "...                                                  ...    ...            ...\n",
       "56814  We consider the recovery of a source term f (x...      1  sci_gen_human\n",
       "56815  Self-supervised learning (SlfSL), aiming at le...      1  sci_gen_human\n",
       "56816  Recurrent neural networks (RNNs) have achieved...      1  sci_gen_human\n",
       "56817  Deep reinforcement learning (DRL) is a booming...      1  sci_gen_human\n",
       "56818  As part of Smart Cities initiatives, national,...      1  sci_gen_human\n",
       "\n",
       "[56819 rows x 3 columns]"
      ]
     },
     "execution_count": 11,
     "metadata": {},
     "output_type": "execute_result"
    }
   ],
   "source": [
    "df = pd.read_csv('data/hack_train.csv')\n",
    "df"
   ]
  },
  {
   "cell_type": "code",
   "execution_count": 12,
   "metadata": {},
   "outputs": [],
   "source": [
    "# Create a Hugging Face Dataset from the data (if not already in one)\n",
    "data_dict = {\n",
    "    \"texts\": df['text'],\n",
    "    \"labels\": df['label']\n",
    "}\n",
    "hf_dataset = Dataset.from_dict(data_dict)"
   ]
  },
  {
   "cell_type": "code",
   "execution_count": 13,
   "metadata": {},
   "outputs": [
    {
     "name": "stdout",
     "output_type": "stream",
     "text": [
      "Précision du modèle Naïf Bayésien : 73.94%\n"
     ]
    }
   ],
   "source": [
    "import numpy as np\n",
    "from sklearn.feature_extraction.text import CountVectorizer\n",
    "from sklearn.naive_bayes import MultinomialNB\n",
    "from sklearn.model_selection import train_test_split\n",
    "from sklearn.metrics import accuracy_score\n",
    "\n",
    "# Déjà préparé vos données dans hf_dataset\n",
    "texts = hf_dataset[\"texts\"]\n",
    "labels = hf_dataset[\"labels\"]\n",
    "\n",
    "# Vectorisation des textes\n",
    "vectorizer = CountVectorizer()\n",
    "X = vectorizer.fit_transform(texts)\n",
    "\n",
    "# Split des données en ensembles d'apprentissage et de test\n",
    "X_train, X_test, y_train, y_test = train_test_split(X, np.array(labels), test_size=0.2, random_state=42)\n",
    "\n",
    "# Création et entraînement du modèle Naïf Bayésien\n",
    "clf = MultinomialNB()\n",
    "clf.fit(X_train, y_train)\n",
    "\n",
    "# Évaluation du modèle\n",
    "y_pred = clf.predict(X_test)\n",
    "accuracy = accuracy_score(y_test, y_pred)\n",
    "print(\"Précision du modèle Naïf Bayésien : {:.2f}%\".format(accuracy * 100))\n"
   ]
  },
  {
   "cell_type": "code",
   "execution_count": 15,
   "metadata": {},
   "outputs": [
    {
     "name": "stdout",
     "output_type": "stream",
     "text": [
      "Matrice de confusion:\n",
      " [[4714  838]\n",
      " [2124 3688]]\n",
      "\n",
      "Rapport de classification:\n",
      "               precision    recall  f1-score   support\n",
      "\n",
      "           0       0.69      0.85      0.76      5552\n",
      "           1       0.81      0.63      0.71      5812\n",
      "\n",
      "    accuracy                           0.74     11364\n",
      "   macro avg       0.75      0.74      0.74     11364\n",
      "weighted avg       0.75      0.74      0.74     11364\n",
      "\n"
     ]
    }
   ],
   "source": [
    "from sklearn.metrics import confusion_matrix, classification_report\n",
    "\n",
    "# Prédire sur l'ensemble de test\n",
    "y_pred = clf.predict(X_test)\n",
    "\n",
    "# Obtenir la matrice de confusion et le rapport de classification\n",
    "conf_matrix = confusion_matrix(y_test, y_pred)\n",
    "class_report = classification_report(y_test, y_pred)\n",
    "print(\"Matrice de confusion:\\n\", conf_matrix)\n",
    "print(\"\\nRapport de classification:\\n\", class_report)\n"
   ]
  }
 ],
 "metadata": {
  "kernelspec": {
   "display_name": "base",
   "language": "python",
   "name": "python3"
  },
  "language_info": {
   "codemirror_mode": {
    "name": "ipython",
    "version": 3
   },
   "file_extension": ".py",
   "mimetype": "text/x-python",
   "name": "python",
   "nbconvert_exporter": "python",
   "pygments_lexer": "ipython3",
   "version": "3.11.6"
  }
 },
 "nbformat": 4,
 "nbformat_minor": 2
}
